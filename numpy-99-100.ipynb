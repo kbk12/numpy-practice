{
 "cells": [
  {
   "cell_type": "markdown",
   "metadata": {},
   "source": [
    "99. 给定一个整数n 和一个二维数组X，从X中选择可以被解释为从多n度的多项分布式的行，即这些行只包含整数对n的和"
   ]
  },
  {
   "cell_type": "code",
   "execution_count": 1,
   "metadata": {},
   "outputs": [
    {
     "name": "stdout",
     "output_type": "stream",
     "text": [
      "[[2. 0. 1. 1.]]\n"
     ]
    }
   ],
   "source": [
    "import numpy as np \n",
    "X = np.asarray([[1.0, 0.0, 3.0, 8.0],\n",
    "                [2.0, 0.0, 1.0, 1.0],\n",
    "                [1.5, 2.5, 1.0, 0.0]])\n",
    "n = 4\n",
    "M = np.logical_and.reduce(np.mod(X, 1) == 0, axis=-1)\n",
    "M &= (X.sum(axis=-1) == n)\n",
    "print(X[M])"
   ]
  },
  {
   "cell_type": "markdown",
   "metadata": {},
   "source": [
    "100. 对于一个一维数组X，计算它boostrapped之后的95%置信区间的平均值"
   ]
  },
  {
   "cell_type": "code",
   "execution_count": 3,
   "metadata": {},
   "outputs": [
    {
     "name": "stdout",
     "output_type": "stream",
     "text": [
      "[-0.14439623 -0.07781459  1.21591425  1.30267118  0.67330406  0.28053077\n",
      " -1.50285387  1.90167743 -1.06269972  0.82320034 -0.01042967 -0.01829283\n",
      "  0.17359611 -2.57939849 -0.38345654  0.28425557  1.28572299  1.10905848\n",
      "  0.38730751 -0.51212338  0.86653156 -0.85172671 -1.83169794 -0.38816115\n",
      " -0.21557294  1.76326738  2.49179416  1.83617866 -0.42181903 -0.27164892\n",
      "  0.70098628  0.48883471  0.22969904  0.28303283 -0.71859399 -1.0517349\n",
      "  0.79994536 -0.13402013 -0.08374379 -0.46415584 -0.40358514  0.15627749\n",
      "  0.41620651 -0.108572    0.54055588 -0.22883367 -0.54566745  0.45333636\n",
      " -0.24705512 -1.58896683  1.21461688  0.15442531 -0.04028669  1.51869246\n",
      " -2.2402533  -0.34771305 -1.02110673 -0.55110493 -0.70271096  0.01486422\n",
      " -1.23096141  2.28189484  0.84989161 -0.71824258  0.73938078 -1.32836265\n",
      " -0.70731709 -0.96231122 -0.23167101  1.10747422  0.39409722  1.15347027\n",
      " -1.68760372  0.10139088 -1.7380845   0.54258811  1.55126244  1.71776409\n",
      " -0.00933532 -0.47071376 -1.05096899  0.67117706  2.31063749 -0.63595859\n",
      " -1.0786932   1.26589093 -0.11981293  0.83816856  0.39783059 -0.97086435\n",
      " -0.12254749  1.37287343  0.87885128 -0.8130327  -0.97648942 -0.28469498\n",
      " -0.29262116  0.7418699   2.67110122  0.3158243 ]\n"
     ]
    }
   ],
   "source": [
    "X = np.random.randn(100) # random 1D array  randn函数返回一个或一组样本，具有标准正态分布。\n",
    "print(X)"
   ]
  },
  {
   "cell_type": "code",
   "execution_count": 4,
   "metadata": {},
   "outputs": [
    {
     "name": "stdout",
     "output_type": "stream",
     "text": [
      "[-0.10664082  0.27618084]\n"
     ]
    }
   ],
   "source": [
    "N = 1000 # number of bootstrap samples\n",
    "idx = np.random.randint(0, X.size, (N, X.size))\n",
    "means = X[idx].mean(axis=1)\n",
    "confint = np.percentile(means, [2.5, 97.5])\n",
    "print(confint)"
   ]
  },
  {
   "cell_type": "code",
   "execution_count": null,
   "metadata": {},
   "outputs": [],
   "source": []
  }
 ],
 "metadata": {
  "kernelspec": {
   "display_name": "Python 3",
   "language": "python",
   "name": "python3"
  },
  "language_info": {
   "codemirror_mode": {
    "name": "ipython",
    "version": 3
   },
   "file_extension": ".py",
   "mimetype": "text/x-python",
   "name": "python",
   "nbconvert_exporter": "python",
   "pygments_lexer": "ipython3",
   "version": "3.8.5"
  }
 },
 "nbformat": 4,
 "nbformat_minor": 4
}
